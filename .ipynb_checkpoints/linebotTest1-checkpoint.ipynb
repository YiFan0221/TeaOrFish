{
 "cells": [
  {
   "cell_type": "code",
   "execution_count": null,
   "id": "9df57071",
   "metadata": {},
   "outputs": [],
   "source": [
    "from flask import Flask\n",
    "app = Flask(__name__)\n",
    "\n",
    "from flask import Flask, request, abort\n",
    "from linebot import LineBotApi, WebhookHandler\n",
    "from linebot.exception import InvalidSignatureError\n",
    "from linebot.models import MessageEvent,TextMessage,TextSendMessage\n",
    "\n",
    "line_bot_api = LineBotApi('1656189523')\n",
    "handler = WebhookHandler('976067291be71b6c3e6a3d5c161db416')\n",
    "\n",
    "@app.route(\"/callback\",methods=['POST'])\n",
    "def callback():\n",
    "    signature = request.headers['X-Line-Signature']\n",
    "    body = request.get_data(as_text=True)\n",
    "    try:\n",
    "        handler.handle(body,signature)\n",
    "    except InvalidSignatureError:\n",
    "        abort(400)\n",
    "    return 'OK'\n",
    "@handler.add(MessageEvent,message=TextMessage)\n",
    "def handler_message(event):\n",
    "    line_bot_api.reply_message(event.reply_token,\n",
    "        TextSendMessage(text=event.message.text))\n",
    "    \n",
    "if __name__ == '____':\n",
    "    app.run()"
   ]
  }
 ],
 "metadata": {
  "kernelspec": {
   "display_name": "Python 3",
   "language": "python",
   "name": "python3"
  },
  "language_info": {
   "codemirror_mode": {
    "name": "ipython",
    "version": 3
   },
   "file_extension": ".py",
   "mimetype": "text/x-python",
   "name": "python",
   "nbconvert_exporter": "python",
   "pygments_lexer": "ipython3",
   "version": "3.8.8"
  }
 },
 "nbformat": 4,
 "nbformat_minor": 5
}
